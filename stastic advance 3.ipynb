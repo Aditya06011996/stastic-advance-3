{
 "cells": [
  {
   "cell_type": "markdown",
   "id": "5441f017-4d15-42b2-8104-64cda608870b",
   "metadata": {},
   "source": [
    "Q1: What is Estimation Statistics? Explain point estimate and interval estimate."
   ]
  },
  {
   "cell_type": "markdown",
   "id": "d8a44fc5-268f-4ee0-9ce7-5c1e79aa14e5",
   "metadata": {},
   "source": [
    "Ans - Estimation statistics is a branch of statistics that deals with the process of estimating population parameters (such as means, proportions, variances, etc.) based on sample data. Estimation is essential in statistics because it allows us to make inferences about a population without having to examine every individual within that population. There are two main types of estimates in estimation statistics: point estimates and interval estimates.\n",
    "\n",
    "1. Point Estimate:\n",
    "   - A point estimate is a single value that is used to approximate a population parameter. It represents the best guess or \"point\" at which we believe the parameter lies based on the sample data.\n",
    "   - For example, if you want to estimate the average height of all students in a school and you take a sample of 100 students, the sample mean height would be a point estimate for the population mean height.\n",
    "\n",
    "2. Interval Estimate:\n",
    "   - An interval estimate, also known as a confidence interval, provides a range of values within which the population parameter is likely to fall with a certain level of confidence.\n",
    "   - Instead of providing a single point as an estimate, interval estimates give us a range of values. For example, you might say that you are 95% confident that the average height of all students in the school falls within the interval of 160 cm to 170 cm.\n",
    "   - Confidence intervals are calculated based on the sample data and a chosen level of confidence (e.g., 95% confidence, 99% confidence). The wider the interval, the higher the confidence level, but the less precise the estimate becomes.\n",
    "\n",
    "In summary, estimation statistics involves the use of point estimates (single values) and interval estimates (ranges of values) to make educated guesses about population parameters based on sample data. Point estimates provide a single best guess, while interval estimates give us a range of values that are likely to contain the true population parameter. The choice between these two types of estimates often depends on the level of confidence required and the precision of the estimate needed for a particular statistical analysis."
   ]
  },
  {
   "cell_type": "markdown",
   "id": "0b71bbea-c74b-4f00-96ab-5e11036452aa",
   "metadata": {},
   "source": [
    "Q2. Write a Python function to estimate the population mean using a sample mean and standard\n",
    "deviation."
   ]
  },
  {
   "cell_type": "markdown",
   "id": "c98cf872-8756-47f3-bfe2-7d703a47a483",
   "metadata": {},
   "source": [
    "Ans - You can estimate the population mean using a sample mean and standard deviation by applying a point estimate. The formula for estimating the population mean is:\n",
    "\n",
    "Population Mean Estimate\n",
    "=\n",
    "Sample Mean\n",
    "Population Mean Estimate=Sample Mean\n",
    "\n",
    "Here's a Python function to do this:"
   ]
  },
  {
   "cell_type": "code",
   "execution_count": 1,
   "id": "67e298a0-3317-4bf5-aa28-523858ae224d",
   "metadata": {},
   "outputs": [
    {
     "name": "stdout",
     "output_type": "stream",
     "text": [
      "Estimated Population Mean: 75.5\n"
     ]
    }
   ],
   "source": [
    "def estimate_population_mean(sample_mean):\n",
    "    return sample_mean\n",
    "\n",
    "# Example usage:\n",
    "sample_mean = 75.5  # Replace with your sample mean\n",
    "population_mean_estimate = estimate_population_mean(sample_mean)\n",
    "print(f\"Estimated Population Mean: {population_mean_estimate}\")\n"
   ]
  },
  {
   "cell_type": "markdown",
   "id": "8cfb1e29-1a78-4055-8bb9-b032f302ec11",
   "metadata": {},
   "source": [
    "In this function, 'estimate_population_mean' simply takes the sample mean as an argument and returns it as the estimate for the population mean. You can replace the 'sample_mean' variable with your actual sample mean value when using the function."
   ]
  },
  {
   "cell_type": "markdown",
   "id": "0b9a09fa-653b-4a93-8847-0f86e6e3b1ea",
   "metadata": {},
   "source": [
    "Q3: What is Hypothesis testing? Why is it used? State the importance of Hypothesis testing."
   ]
  },
  {
   "cell_type": "markdown",
   "id": "7d1c3653-d66b-436d-a4e8-45a040437006",
   "metadata": {},
   "source": [
    "Ans - Hypothesis testing is a fundamental concept in statistics that involves making decisions about population parameters based on sample data. It is a systematic method used to evaluate and test claims or hypotheses about a population by examining the evidence provided by a sample from that population. The primary purpose of hypothesis testing is to draw conclusions and make inferences about the population from which the sample was drawn. Here's why hypothesis testing is used and its importance:\n",
    "\n",
    "1. **Testing Scientific Claims:** Hypothesis testing is commonly used in scientific research to evaluate and test hypotheses or research questions. Researchers formulate hypotheses about the relationships between variables and then use statistical tests to determine whether the evidence from their data supports or contradicts these hypotheses.\n",
    "\n",
    "2. **Decision-Making:** Hypothesis testing helps in making informed decisions. It provides a structured framework for assessing whether an observed effect or difference between groups is statistically significant or whether it could have occurred by random chance.\n",
    "\n",
    "3. **Quality Control and Process Improvement:** In industries and manufacturing, hypothesis testing is used to monitor and improve processes. It helps in determining whether changes in a process have resulted in significant improvements or whether they have had no effect.\n",
    "\n",
    "4. **Medical and Pharmaceutical Research:** Hypothesis testing is crucial in medical and pharmaceutical research to assess the effectiveness of new drugs or medical treatments. Researchers use statistical tests to determine whether a treatment has a significant impact on patient outcomes.\n",
    "\n",
    "5. **Social Sciences and Psychology:** In fields like psychology and social sciences, hypothesis testing is used to study human behavior, social phenomena, and psychological disorders. It allows researchers to draw conclusions about the effects of interventions, relationships between variables, and the generalizability of findings.\n",
    "\n",
    "6. **Public Policy and Decision-Making:** Governments and policymakers use hypothesis testing to evaluate the effectiveness of public policies and programs. For example, they might test whether an education policy has a significant impact on student performance.\n",
    "\n",
    "The importance of hypothesis testing lies in its ability to provide a systematic and objective approach to decision-making. By applying statistical methods and rigorously testing hypotheses, we can avoid making decisions based on intuition or anecdotal evidence. Instead, we rely on empirical evidence and statistical significance to determine whether an observed effect is real and meaningful or if it could have occurred due to random variation. This helps ensure the validity and reliability of research findings and contributes to the advancement of knowledge in various fields."
   ]
  },
  {
   "cell_type": "markdown",
   "id": "3a1cbae7-c971-4cbd-9967-6372ab491ea1",
   "metadata": {},
   "source": [
    "Q4. Create a hypothesis that states whether the average weight of male college students is greater than\n",
    "the average weight of female college students."
   ]
  },
  {
   "cell_type": "markdown",
   "id": "956ab954-e74a-4692-9282-b1be55b0be22",
   "metadata": {},
   "source": [
    "Ans - Hypothesis testing typically involves the formulation of two competing hypotheses: the null hypothesis (H0) and the alternative hypothesis (H1 or Ha). In this case, you want to test whether the average weight of male college students is greater than the average weight of female college students. You can frame the hypotheses as follows:\n",
    "\n",
    "Null Hypothesis (H0): The average weight of male college students is equal to or less than the average weight of female college students.\n",
    "\n",
    "Alternative Hypothesis (Ha): The average weight of male college students is greater than the average weight of female college students.\n",
    "\n",
    "Mathematically, you can represent these hypotheses as:\n",
    "\n",
    "H0: μ_male ≤ μ_female\n",
    "Ha: μ_male > μ_female\n",
    "\n",
    "Where:\n",
    "- H0 represents the null hypothesis.\n",
    "- Ha represents the alternative hypothesis.\n",
    "- μ_male represents the population mean weight of male college students.\n",
    "- μ_female represents the population mean weight of female college students.\n",
    "\n",
    "In this hypothesis test, you would collect data on the weights of male and female college students and perform statistical analysis (e.g., a t-test or z-test) to determine whether there is enough evidence to reject the null hypothesis in favor of the alternative hypothesis. If the statistical test suggests that the average weight of male college students is significantly greater than that of female college students, you would conclude in favor of the alternative hypothesis. Otherwise, if there is not enough evidence, you would fail to reject the null hypothesis."
   ]
  },
  {
   "cell_type": "markdown",
   "id": "583280b8-1fd6-4641-bf96-aa55e5317384",
   "metadata": {},
   "source": [
    "Q5. Write a Python script to conduct a hypothesis test on the difference between two population means,\n",
    "given a sample from each population."
   ]
  },
  {
   "cell_type": "markdown",
   "id": "dd9d9621-a8df-4861-ac5b-4f39fb44d2c0",
   "metadata": {},
   "source": [
    "Ans - To conduct a hypothesis test on the difference between two population means using Python, you can use the scipy library, which provides functions for various statistical tests. Here's a Python script to perform a two-sample t-test as an example:"
   ]
  },
  {
   "cell_type": "code",
   "execution_count": 1,
   "id": "54eba51b-e659-440a-ba81-ec6acae4b113",
   "metadata": {},
   "outputs": [
    {
     "name": "stdout",
     "output_type": "stream",
     "text": [
      "Reject the null hypothesis\n",
      "There is enough evidence to suggest that the means of the two populations are different.\n",
      "t-statistic: 5.799999999999997\n",
      "p-value: 1.7018627582862572e-05\n"
     ]
    }
   ],
   "source": [
    "import numpy as np\n",
    "from scipy import stats\n",
    "\n",
    "# Generate sample data for two populations (replace with your actual data)\n",
    "sample1 = np.array([68, 72, 74, 71, 69, 70, 73, 68, 75, 72])\n",
    "sample2 = np.array([63, 65, 66, 68, 64, 67, 65, 62, 68, 66])\n",
    "\n",
    "# Define your hypotheses\n",
    "# H0: The means of the two populations are equal (μ1 - μ2 = 0)\n",
    "# Ha: The means of the two populations are not equal (μ1 - μ2 ≠ 0)\n",
    "\n",
    "# Perform a two-sample t-test\n",
    "t_stat, p_value = stats.ttest_ind(sample1, sample2)\n",
    "\n",
    "# Set the significance level (alpha)\n",
    "alpha = 0.05\n",
    "\n",
    "# Compare the p-value to alpha to make a decision\n",
    "if p_value < alpha:\n",
    "    print(\"Reject the null hypothesis\")\n",
    "    print(\"There is enough evidence to suggest that the means of the two populations are different.\")\n",
    "else:\n",
    "    print(\"Fail to reject the null hypothesis\")\n",
    "    print(\"There is not enough evidence to suggest that the means of the two populations are different.\")\n",
    "\n",
    "# Print the t-statistic and p-value\n",
    "print(\"t-statistic:\", t_stat)\n",
    "print(\"p-value:\", p_value)\n"
   ]
  },
  {
   "cell_type": "markdown",
   "id": "f242981f-2d35-498b-ac8d-779a4da2a826",
   "metadata": {},
   "source": [
    "\n",
    "In this script:\n",
    "\n",
    "1. We import the necessary libraries, including numpy for data manipulation and scipy's `stats` module for hypothesis testing.\n",
    "\n",
    "2. We generate two sample datasets (`sample1` and `sample2`) to represent the two populations you want to compare. Replace these with your actual data.\n",
    "\n",
    "3. We define the null and alternative hypotheses. In this case, we're testing if the means of the two populations are equal or not equal.\n",
    "\n",
    "4. We use the `stats.ttest_ind` function to perform a two-sample t-test. This function calculates the t-statistic and p-value.\n",
    "\n",
    "5. We set a significance level (`alpha`) to determine the threshold for statistical significance. Common values are 0.05 (5%) or 0.01 (1%).\n",
    "\n",
    "6. We compare the p-value to alpha to make a decision. If the p-value is less than alpha, we reject the null hypothesis, indicating that there is enough evidence to suggest a difference in means.\n",
    "\n",
    "7. Finally, we print the t-statistic, p-value, and the decision made based on the test.\n",
    "\n",
    "Make sure to replace the sample data with your actual data and adjust the hypotheses and significance level as needed for your specific hypothesis test."
   ]
  },
  {
   "cell_type": "markdown",
   "id": "1375f69a-7988-4718-a812-addc266910e5",
   "metadata": {},
   "source": [
    "Q6: What is a null and alternative hypothesis? Give some examples."
   ]
  },
  {
   "cell_type": "markdown",
   "id": "81585204-88ee-48f1-8e83-c9e76ed99efa",
   "metadata": {},
   "source": [
    "Ans - In hypothesis testing, the null hypothesis (H0) and the alternative hypothesis (Ha or H1) are two opposing statements used to assess a specific claim or hypothesis about a population or statistical relationship. They represent different positions or assertions, and the goal of hypothesis testing is to determine which of these positions is supported by the evidence from sample data. Here are explanations and examples of null and alternative hypotheses:\n",
    "\n",
    "1. **Null Hypothesis (H0):**\n",
    "   - The null hypothesis is the default or initial assumption that there is no significant effect, no difference, or no relationship in the population.\n",
    "   - It represents the status quo or the absence of an effect.\n",
    "   - In statistical notation, the null hypothesis often includes an equality symbol (e.g., =, ≤, ≥).\n",
    "\n",
    "   Examples of null hypotheses:\n",
    "   - H0: The mean IQ score of students who receive tutoring is equal to 100.\n",
    "   - H0: There is no difference in sales between two advertising campaigns.\n",
    "   - H0: The new drug has no effect on blood pressure (mean blood pressure change = 0).\n",
    "\n",
    "2. **Alternative Hypothesis (Ha or H1):**\n",
    "   - The alternative hypothesis is the statement that contradicts the null hypothesis. It suggests that there is a significant effect, difference, or relationship in the population.\n",
    "   - It is what researchers are typically trying to find evidence for.\n",
    "   - The alternative hypothesis can be one-sided (indicating a direction) or two-sided (indicating a difference without specifying direction).\n",
    "\n",
    "   Examples of alternative hypotheses:\n",
    "   - Ha: The mean IQ score of students who receive tutoring is greater than 100.\n",
    "   - Ha: Campaign A leads to higher sales than Campaign B.\n",
    "   - Ha: The new drug decreases blood pressure (mean blood pressure change < 0).\n",
    "\n",
    "In hypothesis testing, researchers collect sample data and use statistical tests to determine whether there is enough evidence to reject the null hypothesis in favor of the alternative hypothesis. The decision is based on the observed data and a predetermined significance level (alpha). If the data provide strong evidence against the null hypothesis, it may be rejected in favor of the alternative hypothesis. If not, the null hypothesis may be retained.\n",
    "\n",
    "The choice of null and alternative hypotheses depends on the research question and the specific hypotheses being tested. They should be carefully formulated to address the research objectives and the expected relationships between variables in a study."
   ]
  },
  {
   "cell_type": "markdown",
   "id": "bec1d7f5-b3e0-4ebd-a8aa-a6b89dd1a51e",
   "metadata": {},
   "source": [
    "Q7: Write down the steps involved in hypothesis testing."
   ]
  },
  {
   "cell_type": "markdown",
   "id": "5c33ce83-edff-4e7f-84f3-41b4a06cada3",
   "metadata": {},
   "source": [
    "Ans - Hypothesis testing is a structured process used in statistics to make decisions about population parameters based on sample data. Here are the general steps involved in hypothesis testing:\n",
    "\n",
    "1. **Formulate Hypotheses:**\n",
    "   - Define the null hypothesis (H0) and the alternative hypothesis (Ha or H1).\n",
    "   - H0 represents the default assumption (no effect, no difference), while Ha represents the claim you want to test (effect, difference).\n",
    "\n",
    "2. **Select Significance Level (α):**\n",
    "   - Choose a significance level, often denoted as α, which represents the probability of making a Type I error (incorrectly rejecting a true null hypothesis).\n",
    "   - Common significance levels include 0.05 (5%) and 0.01 (1%), but they can vary depending on the context.\n",
    "\n",
    "3. **Collect and Prepare Data:**\n",
    "   - Collect relevant data through sampling or experiments.\n",
    "   - Clean and prepare the data for analysis, addressing any outliers or missing values.\n",
    "\n",
    "4. **Choose a Statistical Test:**\n",
    "   - Select an appropriate statistical test based on the type of data and the hypotheses being tested.\n",
    "   - Common tests include t-tests, chi-squared tests, ANOVA, correlation tests, and regression analysis.\n",
    "\n",
    "5. **Calculate Test Statistic:**\n",
    "   - Compute the test statistic based on the sample data and the chosen statistical test.\n",
    "   - The test statistic quantifies the difference or relationship observed in the sample.\n",
    "\n",
    "6. **Determine Critical Region (Rejection Region):**\n",
    "   - Determine the critical values or critical region of the test statistic under the null hypothesis.\n",
    "   - The critical region defines the values of the test statistic that would lead to rejection of the null hypothesis.\n",
    "\n",
    "7. **Calculate p-value:**\n",
    "   - Calculate the p-value, which represents the probability of obtaining a test statistic as extreme as, or more extreme than, the one observed in the sample, assuming the null hypothesis is true.\n",
    "   - The p-value is a key indicator of the strength of evidence against the null hypothesis.\n",
    "\n",
    "8. **Make a Decision:**\n",
    "   - Compare the p-value to the significance level (α) to make a decision:\n",
    "     - If p-value ≤ α: Reject the null hypothesis.\n",
    "     - If p-value > α: Fail to reject the null hypothesis.\n",
    "   - If you reject the null hypothesis, it suggests evidence in favor of the alternative hypothesis.\n",
    "\n",
    "9. **Draw Conclusions:**\n",
    "   - Interpret the results in the context of the research question.\n",
    "   - State what the decision means and its implications.\n",
    "   - Avoid making claims that go beyond the evidence.\n",
    "\n",
    "10. **Report Findings:**\n",
    "    - Present the results and conclusions in a clear and concise manner.\n",
    "    - Include relevant statistics, p-values, effect sizes, and any assumptions made during the analysis.\n",
    "\n",
    "11. **Consider Limitations:**\n",
    "    - Acknowledge any limitations of the study, including sample size, assumptions, and potential sources of bias.\n",
    "\n",
    "12. **Repeat (if Necessary):**\n",
    "    - If the null hypothesis is rejected, consider conducting further studies or replications to validate the findings.\n",
    "\n",
    "Hypothesis testing is a systematic and rigorous approach to drawing conclusions from data, helping researchers and decision-makers make informed choices based on statistical evidence."
   ]
  },
  {
   "cell_type": "markdown",
   "id": "fbd271a4-88b2-4ca9-ab15-5170d559823f",
   "metadata": {},
   "source": [
    "Q8. Define p-value and explain its significance in hypothesis testing."
   ]
  },
  {
   "cell_type": "markdown",
   "id": "ea9a8700-a3c3-42a6-bf2e-cde6c9a05643",
   "metadata": {},
   "source": [
    "Ans - The p-value, short for \"probability value,\" is a crucial concept in hypothesis testing. It quantifies the strength of evidence against the null hypothesis (H0) and helps you make a decision about whether to reject or fail to reject the null hypothesis. The p-value is a probability, typically ranging from 0 to 1, that measures the likelihood of observing the observed results (or something more extreme) if the null hypothesis is true.\n",
    "\n",
    "Here's how to interpret the significance of the p-value in hypothesis testing:\n",
    "\n",
    "1. **Small p-value (p ≤ α):**\n",
    "   - If the calculated p-value is less than or equal to the chosen significance level (α), typically 0.05 or 0.01, it is considered statistically significant.\n",
    "   - This indicates that the observed results are unlikely to have occurred by random chance under the assumption that the null hypothesis is true.\n",
    "   - In such cases, you reject the null hypothesis in favor of the alternative hypothesis (Ha).\n",
    "\n",
    "2. **Large p-value (p > α):**\n",
    "   - If the calculated p-value is greater than the chosen significance level (α), it is considered not statistically significant.\n",
    "   - This suggests that the observed results are reasonably likely to occur by random chance under the assumption that the null hypothesis is true.\n",
    "   - In such cases, you fail to reject the null hypothesis.\n",
    "\n",
    "In summary, the p-value serves as a critical threshold for decision-making in hypothesis testing:\n",
    "\n",
    "- If p-value ≤ α: Strong evidence against the null hypothesis. You reject the null hypothesis.\n",
    "- If p-value > α: Weak evidence against the null hypothesis. You fail to reject the null hypothesis.\n",
    "\n",
    "Key points to remember about p-values in hypothesis testing:\n",
    "\n",
    "- Smaller p-values indicate stronger evidence against the null hypothesis.\n",
    "- The choice of the significance level (α) determines the threshold for statistical significance, and it should be selected before conducting the test.\n",
    "- The p-value does not provide information about the size of the effect or the practical significance of the findings. It only assesses whether the effect is statistically significant.\n",
    "- It is essential to consider the context and practical implications of the findings in addition to the p-value when drawing conclusions in real-world applications.\n",
    "\n",
    "Ultimately, the p-value helps researchers and analysts make informed decisions about whether the observed data provide enough evidence to support a particular hypothesis or claim."
   ]
  },
  {
   "cell_type": "markdown",
   "id": "9faf01c5-e873-4b17-9e8f-9507faf772e5",
   "metadata": {},
   "source": [
    "Q9. Generate a Student's t-distribution plot using Python's matplotlib library, with the degrees of freedom\n",
    "parameter set to 10."
   ]
  },
  {
   "cell_type": "markdown",
   "id": "65275ed4-190e-4aaa-a300-df33d5e322d0",
   "metadata": {},
   "source": [
    "Ans - You can create a Student's t-distribution plot using Python's Matplotlib library. The degrees of freedom parameter for the t-distribution determines its shape. Here's how to generate a t-distribution plot with degrees of freedom set to 10:"
   ]
  },
  {
   "cell_type": "code",
   "execution_count": 3,
   "id": "25f2e507-73a5-43b4-ade9-ee235f0e3601",
   "metadata": {},
   "outputs": [
    {
     "data": {
      "image/png": "[encoded data removed]",
      "text/plain": [
       "<Figure size 800x600 with 1 Axes>"
      ]
     },
     "metadata": {},
     "output_type": "display_data"
    }
   ],
   "source": [
    "import numpy as np\n",
    "import matplotlib.pyplot as plt\n",
    "from scipy.stats import t\n",
    "\n",
    "# Degrees of freedom\n",
    "df = 10\n",
    "\n",
    "# Generate x values for the t-distribution plot\n",
    "x = np.linspace(-4, 4, 1000)  # Adjust the range as needed\n",
    "\n",
    "# Calculate the probability density function (PDF) values for the t-distribution\n",
    "pdf_values = t.pdf(x, df)\n",
    "\n",
    "# Create the plot\n",
    "plt.figure(figsize=(8, 6))\n",
    "plt.plot(x, pdf_values, label=f't-distribution (df={df})', color='b')\n",
    "plt.title(f'Student\\'s t-Distribution (df={df})')\n",
    "plt.xlabel('x')\n",
    "plt.ylabel('PDF')\n",
    "plt.grid(True)\n",
    "plt.legend()\n",
    "plt.show()\n"
   ]
  },
  {
   "cell_type": "markdown",
   "id": "77514f7d-7a3a-4397-812d-c0854bd4283f",
   "metadata": {},
   "source": [
    "\n",
    "In this code:\n",
    "\n",
    "1. We import the necessary libraries: NumPy for numerical operations, Matplotlib for plotting, and `t` from SciPy's `stats` module for the t-distribution.\n",
    "\n",
    "2. We specify the degrees of freedom (df) for the t-distribution. In this case, it's set to 10.\n",
    "\n",
    "3. We generate a range of x values using NumPy's `linspace` function to cover a suitable range for the plot.\n",
    "\n",
    "4. We calculate the probability density function (PDF) values for the t-distribution at each x value using `t.pdf` from SciPy's `stats` module.\n",
    "\n",
    "5. We create the plot using Matplotlib, labeling the axes, setting a title, and adding a legend.\n",
    "\n",
    "6. Finally, we display the plot using `plt.show()`.\n",
    "\n",
    "You can adjust the range and other plotting parameters to customize the appearance of the t-distribution plot as needed."
   ]
  },
  {
   "cell_type": "markdown",
   "id": "4cac53ca-8e34-42c1-b603-e0bb7ca21333",
   "metadata": {},
   "source": [
    "Q10. Write a Python program to calculate the two-sample t-test for independent samples, given two\n",
    "random samples of equal size and a null hypothesis that the population means are equal."
   ]
  },
  {
   "cell_type": "markdown",
   "id": "273edc12-84cb-4e00-a099-82806a045258",
   "metadata": {},
   "source": [
    "Ans - To calculate a two-sample t-test for independent samples in Python, you can use the 'scipy.stats' module, which provides a convenient function called 'ttest_ind' for this purpose. Here's a Python program that demonstrates how to perform a two-sample t-test assuming equal population variances and a null hypothesis that the population means are equal:"
   ]
  },
  {
   "cell_type": "code",
   "execution_count": 4,
   "id": "9967ec9e-95ca-4b7e-9758-9461ef74a577",
   "metadata": {},
   "outputs": [
    {
     "name": "stdout",
     "output_type": "stream",
     "text": [
      "Fail to reject the null hypothesis\n",
      "There is not enough evidence to suggest that the population means are different.\n",
      "t-statistic: 0.8897019207505096\n",
      "p-value: 0.3773014533943507\n"
     ]
    }
   ],
   "source": [
    "import numpy as np\n",
    "from scipy import stats\n",
    "\n",
    "# Generate two random samples of equal size\n",
    "sample_size = 30  # You can change this to your desired sample size\n",
    "np.random.seed(0)  # Setting a seed for reproducibility\n",
    "sample1 = np.random.normal(loc=50, scale=10, size=sample_size)  # Sample 1\n",
    "sample2 = np.random.normal(loc=55, scale=10, size=sample_size)  # Sample 2\n",
    "\n",
    "# Perform a two-sample t-test (assuming equal variances)\n",
    "t_stat, p_value = stats.ttest_ind(sample1, sample2)\n",
    "\n",
    "# Set the significance level (alpha)\n",
    "alpha = 0.05\n",
    "\n",
    "# Compare the p-value to alpha to make a decision\n",
    "if p_value < alpha:\n",
    "    print(\"Reject the null hypothesis\")\n",
    "    print(\"There is enough evidence to suggest that the population means are different.\")\n",
    "else:\n",
    "    print(\"Fail to reject the null hypothesis\")\n",
    "    print(\"There is not enough evidence to suggest that the population means are different.\")\n",
    "\n",
    "# Print the t-statistic and p-value\n",
    "print(\"t-statistic:\", t_stat)\n",
    "print(\"p-value:\", p_value)\n"
   ]
  },
  {
   "cell_type": "markdown",
   "id": "14958de4-3e25-4db4-905d-5303f931e0d6",
   "metadata": {},
   "source": [
    "\n",
    "In this program:\n",
    "\n",
    "1. We import the necessary libraries, including NumPy for generating random samples and `scipy.stats` for the t-test.\n",
    "\n",
    "2. We generate two random samples of equal size using NumPy's `random.normal` function. You can adjust the sample size and the characteristics of the samples (mean and standard deviation) as needed.\n",
    "\n",
    "3. We perform a two-sample t-test using `stats.ttest_ind` with the two samples as input arguments.\n",
    "\n",
    "4. We set a significance level (`alpha`) to determine the threshold for statistical significance. Common values are 0.05 (5%) or 0.01 (1%).\n",
    "\n",
    "5. We compare the p-value to alpha to make a decision: If the p-value is less than alpha, we reject the null hypothesis; otherwise, we fail to reject it.\n",
    "\n",
    "6. Finally, we print the t-statistic, p-value, and the decision made based on the test.\n",
    "\n",
    "This program calculates and interprets the two-sample t-test for independent samples, helping you determine whether there is enough evidence to suggest a difference between the population means."
   ]
  },
  {
   "cell_type": "markdown",
   "id": "d7c8c3fc-0eb3-4cbe-b02c-9a447f1f534e",
   "metadata": {},
   "source": [
    "Q11: What is Student’s t distribution? When to use the t-Distribution."
   ]
  },
  {
   "cell_type": "markdown",
   "id": "ac3c5d26-a2f0-4774-8b7b-6f2412acc945",
   "metadata": {},
   "source": [
    "Ans - Student's t-distribution, often referred to simply as the t-distribution, is a probability distribution that is similar in shape to the normal distribution (bell-shaped curve) but has heavier tails. It is named after William Sealy Gosset, who published under the pseudonym \"Student\" when he introduced the distribution in the early 20th century. The t-distribution is used in statistics for various purposes, primarily in situations involving sample data and uncertainty about population parameters.\n",
    "\n",
    "Here are key characteristics and situations when to use the t-distribution:\n",
    "\n",
    "1. **Sample Data:** The t-distribution is particularly useful when working with sample data rather than population data. It accounts for the additional uncertainty introduced by estimating population parameters from a sample.\n",
    "\n",
    "2. **Small Sample Sizes:** When the sample size is small (typically less than 30) and the population's underlying distribution is approximately normal, the t-distribution provides a better approximation than the standard normal distribution for making inferences about population parameters.\n",
    "\n",
    "3. **Unknown Population Standard Deviation:** When you don't know the population standard deviation and need to estimate it from the sample data, the t-distribution is used. In such cases, the standard error of the sample mean is used in place of the population standard deviation.\n",
    "\n",
    "4. **Hypothesis Testing:** The t-distribution is commonly used in hypothesis testing, especially for tests involving means (e.g., one-sample t-test, two-sample t-test, paired t-test). It helps assess whether observed differences or effects in sample data are statistically significant.\n",
    "\n",
    "5. **Confidence Intervals:** When constructing confidence intervals for population parameters (e.g., population mean), the t-distribution is used. It provides wider intervals compared to the normal distribution, which reflects the increased uncertainty associated with smaller sample sizes.\n",
    "\n",
    "6. **Quality Control and Process Monitoring:** In industries, the t-distribution is used for process control and quality assurance. It helps assess whether a process is operating within specified control limits.\n",
    "\n",
    "7. **Regression Analysis:** In linear regression analysis, the t-distribution is used for hypothesis tests related to regression coefficients, especially when estimating the significance of individual coefficients.\n",
    "\n",
    "In summary, the t-distribution is a fundamental probability distribution used in statistical inference, particularly when dealing with small sample sizes and situations where the population standard deviation is unknown. It provides a more appropriate model for estimating population parameters and making statistical inferences when working with sample data."
   ]
  },
  {
   "cell_type": "markdown",
   "id": "d53e5312-bbee-4685-8351-7b142534754d",
   "metadata": {},
   "source": [
    "Q12: What is t-statistic? State the formula for t-statistic."
   ]
  },
  {
   "cell_type": "markdown",
   "id": "f4eb6a95-ea0d-49c4-924e-b39577b3e751",
   "metadata": {},
   "source": [
    "Ans - The t-statistic, also known as the t-value, is a statistic used in hypothesis testing to assess the difference between a sample statistic and a population parameter when working with sample data. It measures how many standard errors the sample statistic is away from the population parameter. The t-statistic is often used in situations where the population standard deviation is unknown and needs to be estimated from the sample data.\n",
    "\n",
    "The formula for calculating the t-statistic depends on the specific hypothesis test being conducted. Here are two common formulas for calculating the t-statistic:\n",
    "\n",
    "1. **One-Sample t-Test:**\n",
    "   - When testing the mean of a single sample against a known or hypothesized population mean (μ), the formula for the t-statistic is:\n",
    "   \n",
    "     \\[ t = \\frac{{\\text{Sample Mean} - \\text{Population Mean (μ)}}}{{\\text{Standard Error}}} \\]\n",
    "\n",
    "   - Standard Error: \\[ SE = \\frac{{\\text{Sample Standard Deviation (s)}}}{{\\sqrt{\\text{Sample Size (n)}}}} \\]\n",
    "\n",
    "2. **Two-Sample t-Test (Independent Samples):**\n",
    "   - When comparing the means of two independent samples (e.g., sample1 and sample2) to test for a difference between them, the formula for the t-statistic is:\n",
    "\n",
    "     \\[ t = \\frac{{\\text{Mean of Sample 1} - \\text{Mean of Sample 2}}}{{\\text{Pooled Standard Error}}} \\]\n",
    "\n",
    "   - Pooled Standard Error: \\[ SE_p = \\sqrt{\\frac{{s_1^2}}{{n_1}} + \\frac{{s_2^2}}{{n_2}}} \\]\n",
    "\n",
    "   - Here, \\(s_1\\) and \\(s_2\\) are the standard deviations of sample1 and sample2, and \\(n_1\\) and \\(n_2\\) are their respective sample sizes.\n",
    "\n",
    "In both cases, the t-statistic measures how many standard errors the sample statistic (sample mean) is away from the population parameter (population mean or the difference between population means, depending on the test). The larger the absolute value of the t-statistic, the further the sample statistic is from the population parameter, suggesting stronger evidence for a significant difference or effect.\n",
    "\n",
    "In hypothesis testing, the calculated t-statistic is compared to a critical value from the t-distribution or used to calculate a p-value. If the t-statistic falls in the tail of the t-distribution, it may lead to the rejection of the null hypothesis, indicating that the observed difference or effect is statistically significant."
   ]
  },
  {
   "cell_type": "markdown",
   "id": "f7b67d8b-d4e3-42ea-b25f-d09ba0c72105",
   "metadata": {},
   "source": [
    "Q13. A coffee shop owner wants to estimate the average daily revenue for their shop. They take a random\n",
    "sample of 50 days and find the sample mean revenue to be $500 with a standard deviation of $50.\n",
    "Estimate the population mean revenue with a 95% confidence interval."
   ]
  },
  {
   "cell_type": "markdown",
   "id": "c1f8df00-2a2c-4b5b-adff-7c07e5db3176",
   "metadata": {},
   "source": [
    "Ans - To estimate the population mean revenue with a 95% confidence interval, you can use the formula for the confidence interval for the mean (also known as the margin of error method) when the population standard deviation is unknown. The formula is:\n",
    "\n",
    "\\[ \\text{Confidence Interval} = \\text{Sample Mean} \\pm \\left( \\frac{t \\cdot \\text{Sample Standard Error}}{\\sqrt{n}} \\right) \\]\n",
    "\n",
    "Where:\n",
    "- Sample Mean (\\( \\bar{x} \\)) is $500.\n",
    "- \\( t \\) is the critical t-value for a 95% confidence level with \\( n - 1 \\) degrees of freedom. Since you have a sample size of 50, the degrees of freedom (\\( df \\)) are 49.\n",
    "- Sample Standard Error (\\( SE \\)) is \\( \\frac{s}{\\sqrt{n}} \\), where \\( s \\) is the sample standard deviation.\n",
    "- \\( n \\) is the sample size, which is 50 in this case.\n",
    "\n",
    "First, let's find the critical t-value for a 95% confidence level with 49 degrees of freedom. You can find this value using a t-table or a calculator. For a 95% confidence level, the critical t-value is approximately 2.0096 (rounded to four decimal places).\n",
    "\n",
    "Now, calculate the sample standard error:\n",
    "\n",
    "\\[ SE = \\frac{50}{\\sqrt{50}} = \\frac{50}{5\\sqrt{2}} = 10\\sqrt{2} \\approx 14.1421 \\]\n",
    "\n",
    "Now, you can calculate the confidence interval:\n",
    "\n",
    "\\[ \\text{Confidence Interval} = 500 \\pm \\left( \\frac{2.0096 \\cdot 14.1421}{\\sqrt{50}} \\right) \\]\n",
    "\n",
    "Calculating the interval:\n",
    "\n",
    "\\[ \\text{Confidence Interval} \\approx 500 \\pm (2.0096 \\cdot 2) \\]\n",
    "\n",
    "\\[ \\text{Confidence Interval} \\approx 500 \\pm 4.0192 \\]\n",
    "\n",
    "Now, you have the confidence interval:\n",
    "\n",
    "\\[ \\text{Confidence Interval} \\approx (500 - 4.0192, 500 + 4.0192) \\]\n",
    "\n",
    "So, the 95% confidence interval for the population mean revenue is approximately (\\$495.98, \\$504.02). This means you can be 95% confident that the true average daily revenue for the coffee shop falls within this interval."
   ]
  },
  {
   "cell_type": "markdown",
   "id": "9c2c07e9-41a4-4515-b3ba-75c987635943",
   "metadata": {},
   "source": [
    "Q14. A researcher hypothesizes that a new drug will decrease blood pressure by 10 mmHg. They conduct a\n",
    "clinical trial with 100 patients and find that the sample mean decrease in blood pressure is 8 mmHg with a\n",
    "standard deviation of 3 mmHg. Test the hypothesis with a significance level of 0.05."
   ]
  },
  {
   "cell_type": "markdown",
   "id": "318c9db3-ebf0-4886-bb92-51a622ab46c7",
   "metadata": {},
   "source": [
    "Ans - To test the researcher's hypothesis that the new drug decreases blood pressure by 10 mmHg, you can perform a one-sample t-test. The null hypothesis (H0) is that the drug has no effect, i.e., the mean decrease in blood pressure is not significantly different from 10 mmHg. The alternative hypothesis (Ha) is that the drug decreases blood pressure by 10 mmHg.\n",
    "\n",
    "Given the following information:\n",
    "- Sample Mean (\\( \\bar{x} \\)): 8 mmHg\n",
    "- Sample Standard Deviation (\\( s \\)): 3 mmHg\n",
    "- Sample Size (\\( n \\)): 100\n",
    "- Population Mean under Null Hypothesis (\\( \\mu_0 \\)): 10 mmHg (as stated in the null hypothesis)\n",
    "- Significance Level (\\( \\alpha \\)): 0.05\n",
    "\n",
    "Here are the steps to conduct the one-sample t-test:\n",
    "\n",
    "1. Formulate Hypotheses:\n",
    "   - Null Hypothesis (H0): \\( \\mu = \\mu_0 \\) (The new drug has no effect; the mean decrease in blood pressure is 10 mmHg).\n",
    "   - Alternative Hypothesis (Ha): \\( \\mu \\neq \\mu_0 \\) (The new drug decreases blood pressure by a different amount from 10 mmHg).\n",
    "\n",
    "2. Calculate the Test Statistic:\n",
    "   - The formula for the t-statistic in a one-sample t-test is:\n",
    "     \\[ t = \\frac{\\bar{x} - \\mu_0}{\\frac{s}{\\sqrt{n}}} \\]\n",
    "\n",
    "   - Plug in the values:\n",
    "     \\[ t = \\frac{8 - 10}{\\frac{3}{\\sqrt{100}}} = \\frac{-2}{\\frac{3}{10}} = -20/3 = -6.6667 \\] (rounded to four decimal places).\n",
    "\n",
    "3. Find the Critical Value:\n",
    "   - With a significance level (\\( \\alpha \\)) of 0.05 and 99 degrees of freedom (since \\( n - 1 = 100 - 1 = 99 \\)), you can find the critical t-values for a two-tailed test.\n",
    "   - For a two-tailed test with \\( \\alpha/2 = 0.025 \\), the critical t-values are approximately ±1.9845 (rounded to four decimal places).\n",
    "\n",
    "4. Make a Decision:\n",
    "   - Compare the calculated t-statistic to the critical t-values:\n",
    "     - If \\( |t| > 1.9845 \\), you reject the null hypothesis.\n",
    "     - If \\( |t| \\leq 1.9845 \\), you fail to reject the null hypothesis.\n",
    "\n",
    "   Since \\( |-6.6667| > 1.9845 \\), you reject the null hypothesis.\n",
    "\n",
    "5. Draw a Conclusion:\n",
    "   - Based on the test, there is enough evidence to conclude that the new drug has a significant effect on reducing blood pressure, and the mean decrease in blood pressure is different from 10 mmHg.\n",
    "\n",
    "In summary, at a significance level of 0.05, the one-sample t-test indicates that the new drug has a statistically significant effect on reducing blood pressure, and the mean decrease in blood pressure is not 10 mmHg as hypothesized."
   ]
  },
  {
   "cell_type": "markdown",
   "id": "23d60e02-9623-4962-a3de-4609cf251b51",
   "metadata": {},
   "source": [
    "Q15. An electronics company produces a certain type of product with a mean weight of 5 pounds and a\n",
    "standard deviation of 0.5 pounds. A random sample of 25 products is taken, and the sample mean weight\n",
    "is found to be 4.8 pounds. Test the hypothesis that the true mean weight of the products is less than 5\n",
    "pounds with a significance level of 0.01."
   ]
  },
  {
   "cell_type": "markdown",
   "id": "5041169e-0ec5-48f0-aa59-c0f794382923",
   "metadata": {},
   "source": [
    "Ans - To test the hypothesis that the true mean weight of the products is less than 5 pounds, you can perform a one-sample t-test. The null hypothesis (H0) is that the true mean weight is equal to 5 pounds, and the alternative hypothesis (Ha) is that the true mean weight is less than 5 pounds.\n",
    "\n",
    "Given the following information:\n",
    "- Population Mean under Null Hypothesis (\\( \\mu_0 \\)): 5 pounds\n",
    "- Population Standard Deviation (\\( \\sigma \\)): 0.5 pounds\n",
    "- Sample Mean (\\( \\bar{x} \\)): 4.8 pounds\n",
    "- Sample Size (\\( n \\)): 25\n",
    "- Significance Level (\\( \\alpha \\)): 0.01\n",
    "\n",
    "Here are the steps to conduct the one-sample t-test:\n",
    "\n",
    "1. Formulate Hypotheses:\n",
    "   - Null Hypothesis (H0): \\( \\mu = \\mu_0 \\) (The true mean weight of the products is equal to 5 pounds).\n",
    "   - Alternative Hypothesis (Ha): \\( \\mu < \\mu_0 \\) (The true mean weight of the products is less than 5 pounds).\n",
    "\n",
    "2. Calculate the Test Statistic:\n",
    "   - The formula for the t-statistic in a one-sample t-test is:\n",
    "     \\[ t = \\frac{\\bar{x} - \\mu_0}{\\frac{\\sigma}{\\sqrt{n}}} \\]\n",
    "\n",
    "   - Plug in the values:\n",
    "     \\[ t = \\frac{4.8 - 5}{\\frac{0.5}{\\sqrt{25}}} = \\frac{-0.2}{0.1} = -2 \\]\n",
    "\n",
    "3. Find the Critical Value:\n",
    "   - With a significance level (\\( \\alpha \\)) of 0.01 and 24 degrees of freedom (since \\( n - 1 = 25 - 1 = 24 \\)), you can find the critical t-value for a one-tailed test.\n",
    "   - For a one-tailed test with \\( \\alpha = 0.01 \\), the critical t-value is approximately -2.4922 (rounded to four decimal places).\n",
    "\n",
    "4. Make a Decision:\n",
    "   - Compare the calculated t-statistic to the critical t-value:\n",
    "     - If \\( t < -2.4922 \\), you reject the null hypothesis.\n",
    "     - If \\( t \\geq -2.4922 \\), you fail to reject the null hypothesis.\n",
    "\n",
    "   Since \\( -2 < -2.4922 \\), you reject the null hypothesis.\n",
    "\n",
    "5. Draw a Conclusion:\n",
    "   - Based on the test, there is enough evidence to conclude that the true mean weight of the products is less than 5 pounds at a significance level of 0.01.\n",
    "\n",
    "In summary, the one-sample t-test suggests that the true mean weight of the products is less than 5 pounds with statistical significance at a significance level of 0.01."
   ]
  },
  {
   "cell_type": "markdown",
   "id": "3a0b42c5-3d5f-4c74-9a95-64a372e46102",
   "metadata": {},
   "source": [
    "Q16. Two groups of students are given different study materials to prepare for a test. The first group (n1 =\n",
    "30) has a mean score of 80 with a standard deviation of 10, and the second group (n2 = 40) has a mean\n",
    "score of 75 with a standard deviation of 8. Test the hypothesis that the population means for the two\n",
    "groups are equal with a significance level of 0.01."
   ]
  },
  {
   "cell_type": "markdown",
   "id": "2dbfc821-8bba-408e-94a8-444b5389989a",
   "metadata": {},
   "source": [
    "Ans - To test the hypothesis that the population means for the two groups are equal, you can perform a two-sample t-test for independent samples. The null hypothesis (H0) is that the population means are equal, and the alternative hypothesis (Ha) is that the population means are not equal.\n",
    "\n",
    "Given the following information for each group:\n",
    "- Group 1 (n1 = 30):\n",
    "  - Sample Mean (\\( \\bar{x}_1 \\)): 80\n",
    "  - Sample Standard Deviation (\\( s_1 \\)): 10\n",
    "\n",
    "- Group 2 (n2 = 40):\n",
    "  - Sample Mean (\\( \\bar{x}_2 \\)): 75\n",
    "  - Sample Standard Deviation (\\( s_2 \\)): 8\n",
    "\n",
    "Significance Level (\\( \\alpha \\)): 0.01\n",
    "\n",
    "Here are the steps to conduct the two-sample t-test:\n",
    "\n",
    "1. Formulate Hypotheses:\n",
    "   - Null Hypothesis (H0): \\( \\mu_1 = \\mu_2 \\) (The population means for the two groups are equal).\n",
    "   - Alternative Hypothesis (Ha): \\( \\mu_1 \\neq \\mu_2 \\) (The population means for the two groups are not equal).\n",
    "\n",
    "2. Calculate the Test Statistic:\n",
    "   - The formula for the two-sample t-statistic is:\n",
    "     \\[ t = \\frac{(\\bar{x}_1 - \\bar{x}_2)}{\\sqrt{\\frac{s_1^2}{n_1} + \\frac{s_2^2}{n_2}}} \\]\n",
    "\n",
    "   - Plug in the values:\n",
    "     \\[ t = \\frac{(80 - 75)}{\\sqrt{\\frac{10^2}{30} + \\frac{8^2}{40}}} \\]\n",
    "\n",
    "     Calculate this to find the t-statistic.\n",
    "\n",
    "3. Find the Critical Value:\n",
    "   - With a significance level (\\( \\alpha \\)) of 0.01 and degrees of freedom calculated using the formula:\n",
    "     \\[ df = \\frac{\\left(\\frac{s_1^2}{n_1} + \\frac{s_2^2}{n_2}\\right)^2}{\\frac{\\left(\\frac{s_1^2}{n_1}\\right)^2}{n_1 - 1} + \\frac{\\left(\\frac{s_2^2}{n_2}\\right)^2}{n_2 - 1}} \\]\n",
    "\n",
    "     Calculate the degrees of freedom, and then find the critical t-values for a two-tailed test with that many degrees of freedom.\n",
    "\n",
    "4. Make a Decision:\n",
    "   - Compare the calculated t-statistic to the critical t-values:\n",
    "     - If \\( |t| > \\text{critical value} \\), you reject the null hypothesis.\n",
    "     - If \\( |t| \\leq \\text{critical value} \\), you fail to reject the null hypothesis.\n",
    "\n",
    "5. Draw a Conclusion:\n",
    "   - Based on the test, state whether there is enough evidence to conclude that the population means for the two groups are not equal.\n",
    "\n",
    "Calculate the t-statistic, degrees of freedom, and critical values to make your decision and draw your conclusion.\n",
    "\n",
    "Keep in mind that you'll need to use a t-table, a calculator, or a statistical software package to find the critical values and perform the calculations."
   ]
  },
  {
   "cell_type": "markdown",
   "id": "1b6175c3-2f3a-4370-bcd1-4e456f62eab1",
   "metadata": {},
   "source": [
    "Q17. A marketing company wants to estimate the average number of ads watched by viewers during a TV\n",
    "program. They take a random sample of 50 viewers and find that the sample mean is 4 with a standard\n",
    "deviation of 1.5. Estimate the population mean with a 99% confidence interval."
   ]
  },
  {
   "cell_type": "markdown",
   "id": "22bb0a2a-129f-41cd-989c-8d5a0ddf808f",
   "metadata": {},
   "source": [
    "Ans - To estimate the population mean with a 99% confidence interval, you can use the formula for the confidence interval for the mean (margin of error method) when the population standard deviation is unknown. The formula is:\n",
    "\n",
    "\\[ \\text{Confidence Interval} = \\text{Sample Mean} \\pm \\left( \\frac{t \\cdot \\text{Sample Standard Error}}{\\sqrt{n}} \\right) \\]\n",
    "\n",
    "Where:\n",
    "- Sample Mean (\\( \\bar{x} \\)): 4\n",
    "- Sample Standard Deviation (\\( s \\)): 1.5\n",
    "- Sample Size (\\( n \\)): 50\n",
    "- Significance Level (\\( \\alpha \\)): 0.01 (since it's a 99% confidence interval)\n",
    "- Degrees of Freedom (\\( df \\)): \\( n - 1 = 50 - 1 = 49 \\)\n",
    "\n",
    "Here are the steps to calculate the confidence interval:\n",
    "\n",
    "1. Find the Critical Value (\\( t \\)) for a 99% confidence interval with 49 degrees of freedom. You can use a t-table, calculator, or statistical software to find this value. For a 99% confidence interval, the critical t-value is approximately 2.682 (rounded to three decimal places).\n",
    "\n",
    "2. Calculate the Sample Standard Error (\\( SE \\)):\n",
    "   \\[ SE = \\frac{s}{\\sqrt{n}} = \\frac{1.5}{\\sqrt{50}} \\]\n",
    "\n",
    "3. Plug in the values into the confidence interval formula:\n",
    "   \\[ \\text{Confidence Interval} = 4 \\pm \\left( \\frac{2.682 \\cdot \\frac{1.5}{\\sqrt{50}}}{\\sqrt{50}} \\right) \\]\n",
    "\n",
    "4. Calculate the interval:\n",
    "   \\[ \\text{Confidence Interval} = 4 \\pm \\left( \\frac{2.682 \\cdot 1.5}{\\sqrt{50}} \\right) \\]\n",
    "\n",
    "Now, calculate the interval:\n",
    "\n",
    "\\[ \\text{Confidence Interval} \\approx 4 \\pm \\left( \\frac{2.682 \\cdot 1.5}{\\sqrt{50}} \\right) \\]\n",
    "\n",
    "\\[ \\text{Confidence Interval} \\approx 4 \\pm \\left( \\frac{4.023}{\\sqrt{50}} \\right) \\]\n",
    "\n",
    "\\[ \\text{Confidence Interval} \\approx 4 \\pm 0.569 \\]\n",
    "\n",
    "So, the 99% confidence interval for the population mean number of ads watched by viewers during the TV program is approximately (3.431, 4.569). This means you can be 99% confident that the true population mean falls within this interval."
   ]
  },
  {
   "cell_type": "code",
   "execution_count": null,
   "id": "ba034f5a-5763-425c-b0af-78915e3dc766",
   "metadata": {},
   "outputs": [],
   "source": []
  },
  {
   "cell_type": "code",
   "execution_count": null,
   "id": "b21ca3d8-57f2-4b1e-a502-bfe00641fcf4",
   "metadata": {},
   "outputs": [],
   "source": []
  },
  {
   "cell_type": "code",
   "execution_count": null,
   "id": "7e1d90a1-c356-4ad2-9156-b5e5d1c6afd4",
   "metadata": {},
   "outputs": [],
   "source": []
  },
  {
   "cell_type": "code",
   "execution_count": null,
   "id": "5f243a3b-a37e-472a-80ea-4808c4cb4d10",
   "metadata": {},
   "outputs": [],
   "source": []
  },
  {
   "cell_type": "code",
   "execution_count": null,
   "id": "059c5634-d4cb-447d-b4a8-73559357658f",
   "metadata": {},
   "outputs": [],
   "source": []
  },
  {
   "cell_type": "code",
   "execution_count": 5,
   "id": "8e79e5b3-fce0-43a2-b6ec-3c091692d047",
   "metadata": {},
   "outputs": [
    {
     "ename": "SyntaxError",
     "evalue": "unterminated string literal (detected at line 1) (544193499.py, line 1)",
     "output_type": "error",
     "traceback": [
      "\u001b[0;36m  Cell \u001b[0;32mIn[5], line 1\u001b[0;36m\u001b[0m\n\u001b[0;31m    '\u001b[0m\n\u001b[0m    ^\u001b[0m\n\u001b[0;31mSyntaxError\u001b[0m\u001b[0;31m:\u001b[0m unterminated string literal (detected at line 1)\n"
     ]
    }
   ],
   "source": [
    "'"
   ]
  },
  {
   "cell_type": "code",
   "execution_count": null,
   "id": "08f62627-d3d3-4763-bd9a-83573d2c57ab",
   "metadata": {},
   "outputs": [],
   "source": []
  }
 ],
 "metadata": {
  "kernelspec": {
   "display_name": "Python 3 (ipykernel)",
   "language": "python",
   "name": "python3"
  },
  "language_info": {
   "codemirror_mode": {
    "name": "ipython",
    "version": 3
   },
   "file_extension": ".py",
   "mimetype": "text/x-python",
   "name": "python",
   "nbconvert_exporter": "python",
   "pygments_lexer": "ipython3",
   "version": "3.10.8"
  }
 },
 "nbformat": 4,
 "nbformat_minor": 5
}
